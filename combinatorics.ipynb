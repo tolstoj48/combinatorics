{
 "cells": [
  {
   "cell_type": "markdown",
   "metadata": {},
   "source": [
    "### Základy kombinatoriky"
   ]
  },
  {
   "cell_type": "markdown",
   "metadata": {},
   "source": [
    "#### U možností bez opakování je logicky nejvíce permutací bez opakování (n-tice z n prvků), variací (k-tice z n prvků, ale uspořádaná ab != ba) a nakonec kombinaci (k-tice z n prvků neuspořádaná --> ab = ba)"
   ]
  },
  {
   "cell_type": "markdown",
   "metadata": {},
   "source": [
    "#### Permutace bez opakování\n",
    "##### Jde o n-tice z n prvků, kde záleží na pořadí těchto prvků (ab != ba, tzn. uspořádaná) bez opakování těchto prvků - každý prvek se vyskytuje právě jednou\n",
    "##### Počet P(n) všech permutací z n prvků je: P(n) = n!"
   ]
  },
  {
   "cell_type": "code",
   "execution_count": 2,
   "metadata": {},
   "outputs": [],
   "source": [
    "import math\n",
    "\n",
    "def permutation_without_repetition(num):\n",
    "    return math.factorial(num)\n"
   ]
  },
  {
   "cell_type": "code",
   "execution_count": 3,
   "metadata": {},
   "outputs": [
    {
     "name": "stdout",
     "output_type": "stream",
     "text": [
      "120\n"
     ]
    }
   ],
   "source": [
    "number = input(\"Give me number for permutation without repetition: \")\n",
    "try:\n",
    "    print(permutation_without_repetition(int(number)))\n",
    "except:\n",
    "    print(\"Your input is not a number.\")"
   ]
  },
  {
   "cell_type": "markdown",
   "metadata": {},
   "source": [
    "#### Variace bez opakování\n",
    "##### Jde o k-tice z n prvků, kde záleží na pořadí těchto prvků (ab != ba, tzn. uspořádáná) bez opakování těchto prvků - každý prvek se vyskytuje nanejvýš jednou\n",
    "##### Počet V(k, n) všech k-členných variací z n prvků je: V(k, n) = n! / (n - k)!"
   ]
  },
  {
   "cell_type": "code",
   "execution_count": 12,
   "metadata": {},
   "outputs": [],
   "source": [
    "import math\n",
    "\n",
    "def variation_without_repetition(k, n):\n",
    "    return math.factorial(n) / math.factorial(n - k)\n"
   ]
  },
  {
   "cell_type": "code",
   "execution_count": 5,
   "metadata": {},
   "outputs": [
    {
     "name": "stdout",
     "output_type": "stream",
     "text": [
      "20.0\n"
     ]
    }
   ],
   "source": [
    "k = input(\"Give me number of choices for variation without repetition: \")\n",
    "n = input(\"Give me number of base file for variation without repetition: \")\n",
    "try:\n",
    "    print(variation_without_repetition(int(k), int(n)))\n",
    "except:\n",
    "    print(\"One of your inputs or both is not a number.\")"
   ]
  },
  {
   "cell_type": "markdown",
   "metadata": {},
   "source": [
    "#### Kombinace bez opakování\n",
    "##### Jde o k-tice z n prvků, kde nezáleží na pořadí těchto prvků (ab = ba, tzn. neuspořádaná) bez opakování těchto prvků - každý prvek se vyskytuje nanejvýš jednou\n",
    "##### Počet K(k, n) všech k-členných kombinací z n prvků je: K(k, n) = n! / (k! * (n - k)!) = (n nad k) = kombinační číslo"
   ]
  },
  {
   "cell_type": "code",
   "execution_count": 13,
   "metadata": {},
   "outputs": [],
   "source": [
    "import math\n",
    "\n",
    "def combination_without_repetition(k, n):\n",
    "    return math.factorial(n) / (math.factorial(k) * math.factorial(n - k))\n"
   ]
  },
  {
   "cell_type": "code",
   "execution_count": 7,
   "metadata": {},
   "outputs": [
    {
     "name": "stdout",
     "output_type": "stream",
     "text": [
      "10.0\n"
     ]
    }
   ],
   "source": [
    "k = input(\"Give me number of choices for combination without repetition: \")\n",
    "n = input(\"Give me number of base file for combination without repetition: \")\n",
    "try:\n",
    "    print(combination_without_repetition(int(k), int(n)))\n",
    "except:\n",
    "    print(\"One of your inputs or both is not a number.\")"
   ]
  },
  {
   "cell_type": "markdown",
   "metadata": {},
   "source": [
    "#### Permutace s opakováním\n",
    "\n",
    "##### Jde o uspořádanou k-tici z n prvků, kde záleží na pořadí těchto prvků (ab != ba, tzn. uspořádaná), přitom se v ní každý prvek n vyskytuje alespoň jednou.\n",
    "\n",
    "##### Počet P´(k1, k2, ... kn) = (k1 + k2 + ... + kn)! / k1! * k2! * ... * kn!, kde k1, k2 ... kn je kolikrát se daný prvek vyskytuje.\n",
    "\n",
    "\n"
   ]
  },
  {
   "cell_type": "code",
   "execution_count": 14,
   "metadata": {},
   "outputs": [
    {
     "data": {
      "text/plain": [
       "1260.0"
      ]
     },
     "execution_count": 14,
     "metadata": {},
     "output_type": "execute_result"
    }
   ],
   "source": [
    "import math\n",
    "\n",
    "def permutation_with_repetition(*args):\n",
    "    numerator = 0\n",
    "    denominator = 1\n",
    "    for arg in args:\n",
    "        numerator += arg\n",
    "        denominator *= math.factorial(arg)\n",
    "    return math.factorial(numerator) / denominator\n",
    "\n",
    "permutation_with_repetition(2, 2, 1, 1) * 7"
   ]
  },
  {
   "cell_type": "markdown",
   "metadata": {},
   "source": [
    "#### Variace s opakováním\n",
    "\n",
    "##### Jde o k-tice z n prvků, kde záleží na pořadí těchto prvků (ab != ba, tzn. uspořádaná) s opakováním těchto prvků - každý z prvků může být až k-krát. Může dokonce nastat případ, kdy je k > n (narozdíl od variací bez opakování, kde je vždy k <= n).\n",
    "\n",
    "##### Počet V´(k, n) = n na k\n",
    "\n",
    "\n"
   ]
  },
  {
   "cell_type": "code",
   "execution_count": 15,
   "metadata": {},
   "outputs": [],
   "source": [
    "import math\n",
    "\n",
    "def variation_with_repetition(k, n):\n",
    "    return math.pow(n, k)"
   ]
  },
  {
   "cell_type": "code",
   "execution_count": 9,
   "metadata": {},
   "outputs": [
    {
     "name": "stdout",
     "output_type": "stream",
     "text": [
      "25.0\n"
     ]
    }
   ],
   "source": [
    "k = input(\"Give me number of choices for variation with repetition: \")\n",
    "n = input(\"Give me number of base file for variation with repetition: \")\n",
    "try:\n",
    "    print(variation_with_repetition(int(k), int(n)))\n",
    "except:\n",
    "    print(\"One of your inputs or both is not a number.\")"
   ]
  },
  {
   "cell_type": "markdown",
   "metadata": {},
   "source": [
    "#### Komnbinace s opakováním\n",
    "\n",
    "##### Jde o k-tice z n prvků, kde nezáleží na pořadí těchto prvků (ab = ba, tzn. neuspořádaná) s opakováním těchto prvků - každý z prvků může být až k-krát.\n",
    "\n",
    "##### Počet K´(k, n) = (n + k - 1) nad k"
   ]
  },
  {
   "cell_type": "code",
   "execution_count": 10,
   "metadata": {},
   "outputs": [],
   "source": [
    "import math\n",
    "\n",
    "def combination_with_repetition(k, n):\n",
    "    return math.factorial(n + k - 1) / (math.factorial(k) * math.factorial(n - 1))\n"
   ]
  },
  {
   "cell_type": "code",
   "execution_count": 11,
   "metadata": {},
   "outputs": [
    {
     "name": "stdout",
     "output_type": "stream",
     "text": [
      "455.0\n"
     ]
    }
   ],
   "source": [
    "k = input(\"Give me number of choices for combination with repetition: \")\n",
    "n = input(\"Give me number of base file for combination with repetition: \")\n",
    "try:\n",
    "    print(combination_with_repetition(int(k), int(n)))\n",
    "except:\n",
    "    print(\"One of your inputs or both is not a number.\")"
   ]
  }
 ],
 "metadata": {
  "kernelspec": {
   "display_name": "Python 3",
   "language": "python",
   "name": "python3"
  },
  "language_info": {
   "codemirror_mode": {
    "name": "ipython",
    "version": 3
   },
   "file_extension": ".py",
   "mimetype": "text/x-python",
   "name": "python",
   "nbconvert_exporter": "python",
   "pygments_lexer": "ipython3",
   "version": "3.12.6"
  }
 },
 "nbformat": 4,
 "nbformat_minor": 2
}
